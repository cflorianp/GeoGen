{
 "cells": [
  {
   "cell_type": "code",
   "execution_count": null,
   "metadata": {
    "ExecuteTime": {
     "end_time": "2016-12-20T11:40:01.111400",
     "start_time": "2016-12-20T11:40:01.106405"
    },
    "collapsed": false
   },
   "outputs": [],
   "source": [
    "from threading import Thread\n",
    "import json\n",
    "from datetime import datetime\n",
    "from time import sleep\n",
    "import time\n",
    "from random import random\n",
    "import sys\n",
    "from math import *"
   ]
  },
  {
   "cell_type": "code",
   "execution_count": null,
   "metadata": {
    "ExecuteTime": {
     "end_time": "2016-12-20T12:21:10.541108",
     "start_time": "2016-12-20T12:21:10.536109"
    },
    "collapsed": true
   },
   "outputs": [],
   "source": [
    "c_partDieu = (45.76069, 4.85897)\n",
    "c_zoo = (45.77818, 4.85675)\n",
    "c_fourviere = (45.76247,4.82253)\n",
    "c_if = (45.78170,4.87286)\n",
    "\n",
    "v_pieton = 4\n",
    "v_bouchons = 7\n",
    "v_voiture = 20\n",
    "v_metro = 25\n",
    "v_velo = 15"
   ]
  },
  {
   "cell_type": "code",
   "execution_count": null,
   "metadata": {
    "ExecuteTime": {
     "end_time": "2016-12-20T12:14:31.761244",
     "start_time": "2016-12-20T12:14:31.673546"
    },
    "collapsed": false
   },
   "outputs": [],
   "source": [
    "class phone(Thread):\n",
    "    D2R = pi / 180\n",
    "    \n",
    "    def __init__(self, number, precision=10, t0=time.time(), delay=10, path=[0, (45.764,4.8357)], instantData = False):\n",
    "        Thread.__init__(self)\n",
    "        self.number = number\n",
    "        self.precision = precision\n",
    "        self.coordinates = path[0][1]\n",
    "        self.time = t0\n",
    "        self.delay = delay\n",
    "        self.dead = False\n",
    "        self.path= path[1:]\n",
    "        self.currentTarget = self.coordinates\n",
    "        self.currentSpeed = 0\n",
    "        self.instantData = instantData\n",
    "        pass\n",
    "    \n",
    "    def kill(self):\n",
    "        self.dead = True\n",
    "        \n",
    "    def set_delay(self, delay):\n",
    "        self.delay = delay\n",
    "    \n",
    "    def run(self):\n",
    "        while(not self.dead):\n",
    "            if self.currentTarget[0] == self.coordinates[0] and self.currentTarget[1] == self.coordinates[1]:\n",
    "                if len(self.path)>0:\n",
    "                    self.currentTarget = self.path[0][1]\n",
    "                    self.currentSpeed = self.path[0][0]\n",
    "                    self.path = self.path[1:]\n",
    "                    dlat = (self.coordinates[0] - self.currentTarget[0]) * phone.D2R\n",
    "                    dlon = (self.coordinates[1] - self.currentTarget[1]) * phone.D2R\n",
    "                    a = pow(sin(dlat/2.0), 2) + cos(self.coordinates[0]*phone.D2R) * cos(self.currentTarget[0]*phone.D2R) * pow(sin(dlon/2.0), 2)\n",
    "                    c = 2 * atan2(sqrt(a), sqrt(1-a))\n",
    "                    d = 6367 * c\n",
    "                    self.iters = ceil(d/self.currentSpeed*3600/self.delay)#Delay is in seconds\n",
    "                    self.iterSize = ((self.currentTarget[0] - self.coordinates[0])/self.iters, (self.currentTarget[1] - self.coordinates[1])/self.iters)\n",
    "                    \n",
    "                    print(\"new target set, will reach in %d seconds\"%(self.iters*self.delay))\n",
    "                else:\n",
    "                    self.iters = 0\n",
    "            pdir = {}\n",
    "            if self.iters >0:\n",
    "                self.iters -= 1\n",
    "                if self.iters == 0:\n",
    "                    print(\"target reached\")\n",
    "                    self.coordinates = self.currentTarget\n",
    "                else:\n",
    "                    self.coordinates = tuple(map(sum,zip(self.coordinates,self.iterSize)))# Python's magic\n",
    "            else:\n",
    "                #todo : add something\n",
    "                if (self.instantData):\n",
    "                    print (\"Done.\")\n",
    "                    break\n",
    "                else: # Not needed but more readable\n",
    "                    print(\"no more target, idling\")\n",
    "                    pass\n",
    "            pdir['latitude']=self.coordinates[0]\n",
    "            pdir['longitude']=self.coordinates[1]\n",
    "            pdir['radius']=self.precision\n",
    "            pdir['msisdn']=self.number\n",
    "            pdir['timestamp'] = self.time\n",
    "            s = json.dumps(pdir)\n",
    "            print(s)\n",
    "            print(sys.getsizeof(s))\n",
    "            if not self.instantData:\n",
    "                sleep(self.delay)\n",
    "            self.time += self.delay\n",
    "            \n",
    "        print(\"%s killed\"%self.number)\n",
    "    "
   ]
  },
  {
   "cell_type": "code",
   "execution_count": null,
   "metadata": {
    "ExecuteTime": {
     "end_time": "2016-12-20T12:18:10.884500",
     "start_time": "2016-12-20T12:18:10.877500"
    },
    "collapsed": false
   },
   "outputs": [],
   "source": [
    "phone1 = phone(12345, delay=30, path=[(0,c_fourviere),(v_pieton,c_zoo),(v_metro,c_partDieu)], instantData=True)\n",
    "phone1.start()"
   ]
  },
  {
   "cell_type": "code",
   "execution_count": null,
   "metadata": {
    "ExecuteTime": {
     "end_time": "2016-12-20T12:22:57.334052",
     "start_time": "2016-12-20T12:22:57.331035"
    },
    "collapsed": false
   },
   "outputs": [],
   "source": [
    "phone1.kill()"
   ]
  },
  {
   "cell_type": "code",
   "execution_count": null,
   "metadata": {
    "ExecuteTime": {
     "end_time": "2016-12-20T12:23:31.561691",
     "start_time": "2016-12-20T12:23:30.397113"
    },
    "collapsed": false
   },
   "outputs": [],
   "source": [
    "etudiants = []\n",
    "for i in range (1,5000):\n",
    "    et =phone(i, delay = 30, path = [(0,c_if),(v_pieton,c_zoo)])\n",
    "    etudiants.append(et)\n",
    "    et.start()"
   ]
  },
  {
   "cell_type": "code",
   "execution_count": null,
   "metadata": {
    "ExecuteTime": {
     "end_time": "2016-12-20T12:24:18.374794",
     "start_time": "2016-12-20T12:24:18.368773"
    },
    "collapsed": false
   },
   "outputs": [],
   "source": [
    "for et in etudiants:\n",
    "    et.kill() # You cold blooded murderer !"
   ]
  },
  {
   "cell_type": "code",
   "execution_count": null,
   "metadata": {
    "collapsed": true
   },
   "outputs": [],
   "source": []
  }
 ],
 "metadata": {
  "anaconda-cloud": {},
  "kernelspec": {
   "display_name": "Python [Root]",
   "language": "python",
   "name": "Python [Root]"
  },
  "language_info": {
   "codemirror_mode": {
    "name": "ipython",
    "version": 3
   },
   "file_extension": ".py",
   "mimetype": "text/x-python",
   "name": "python",
   "nbconvert_exporter": "python",
   "pygments_lexer": "ipython3",
   "version": "3.5.2"
  },
  "nav_menu": {},
  "toc": {
   "navigate_menu": true,
   "number_sections": true,
   "sideBar": true,
   "threshold": 6,
   "toc_cell": false,
   "toc_section_display": "block",
   "toc_window_display": false
  }
 },
 "nbformat": 4,
 "nbformat_minor": 1
}
