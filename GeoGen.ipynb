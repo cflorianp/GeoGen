{
 "cells": [
  {
   "cell_type": "code",
   "execution_count": 22,
   "metadata": {
    "collapsed": false
   },
   "outputs": [],
   "source": [
    "from threading import Thread\n",
    "import json\n",
    "from datetime import datetime\n",
    "from time import sleep\n",
    "from random import random"
   ]
  },
  {
   "cell_type": "code",
   "execution_count": null,
   "metadata": {
    "collapsed": true
   },
   "outputs": [],
   "source": []
  },
  {
   "cell_type": "code",
   "execution_count": 26,
   "metadata": {
    "collapsed": false
   },
   "outputs": [],
   "source": [
    "class phone(Thread):\n",
    "    def __init__(self, number, precision=10, origLat = 45.764, origLong =4.8357, t0=datetime.utcnow(), delay=10):\n",
    "        Thread.__init__(self)\n",
    "        self.number = number\n",
    "        self.precision = precision\n",
    "        self.lat = origLat\n",
    "        self.lon = origLong\n",
    "        self.lastSeen = t0\n",
    "        self.delay = delay\n",
    "        self.dead = False\n",
    "        pass\n",
    "    \n",
    "    def kill(self):\n",
    "        self.dead = True\n",
    "        \n",
    "    def set_delay(self, delay):\n",
    "        self.delay = delay\n",
    "    \n",
    "    def run(self):\n",
    "        while(not self.dead):\n",
    "            pdir = {}\n",
    "            pdir['lat']=self.lat\n",
    "            pdir['lon']=self.lon\n",
    "            pdir['precision']=self.precision\n",
    "            pdir['number']=self.number\n",
    "\n",
    "            s = json.dumps(pdir)\n",
    "            print(s)\n",
    "            sleep(self.delay)\n",
    "            self.lat += (random()-0.5)/100\n",
    "            self.lon += (random()-0.5)/100\n",
    "        print(\"%s killed\"%self.number)\n",
    "    "
   ]
  },
  {
   "cell_type": "code",
   "execution_count": 27,
   "metadata": {
    "collapsed": false
   },
   "outputs": [
    {
     "name": "stdout",
     "output_type": "stream",
     "text": [
      "{\"number\": 12345, \"precision\": 10, \"lon\": 4.8357, \"lat\": 45.764}\n"
     ]
    }
   ],
   "source": [
    "phone1 = phone(12345, delay=3)\n",
    "phone1.start()"
   ]
  },
  {
   "cell_type": "code",
   "execution_count": 28,
   "metadata": {
    "collapsed": false
   },
   "outputs": [
    {
     "name": "stdout",
     "output_type": "stream",
     "text": [
      "12345 killed\n"
     ]
    }
   ],
   "source": [
    "phone1.kill()"
   ]
  },
  {
   "cell_type": "code",
   "execution_count": null,
   "metadata": {
    "collapsed": true
   },
   "outputs": [],
   "source": []
  }
 ],
 "metadata": {
  "anaconda-cloud": {},
  "kernelspec": {
   "display_name": "Python [default]",
   "language": "python",
   "name": "python3"
  },
  "language_info": {
   "codemirror_mode": {
    "name": "ipython",
    "version": 3
   },
   "file_extension": ".py",
   "mimetype": "text/x-python",
   "name": "python",
   "nbconvert_exporter": "python",
   "pygments_lexer": "ipython3",
   "version": "3.5.2"
  }
 },
 "nbformat": 4,
 "nbformat_minor": 1
}
