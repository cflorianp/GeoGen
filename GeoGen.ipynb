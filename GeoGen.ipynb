{
 "cells": [
  {
   "cell_type": "code",
   "execution_count": 1,
   "metadata": {
    "collapsed": false
   },
   "outputs": [],
   "source": [
    "from threading import Thread\n",
    "import json\n",
    "from datetime import datetime\n",
    "from time import sleep\n",
    "import time\n",
    "from random import random\n",
    "import sys\n",
    "from math import *"
   ]
  },
  {
   "cell_type": "code",
   "execution_count": null,
   "metadata": {
    "collapsed": true
   },
   "outputs": [],
   "source": []
  },
  {
   "cell_type": "code",
   "execution_count": 6,
   "metadata": {
    "collapsed": false
   },
   "outputs": [
    {
     "ename": "SyntaxError",
     "evalue": "invalid syntax (<ipython-input-6-f7c9be185e4c>, line 42)",
     "output_type": "error",
     "traceback": [
      "\u001b[0;36m  File \u001b[0;32m\"<ipython-input-6-f7c9be185e4c>\"\u001b[0;36m, line \u001b[0;32m42\u001b[0m\n\u001b[0;31m    else:\u001b[0m\n\u001b[0m       ^\u001b[0m\n\u001b[0;31mSyntaxError\u001b[0m\u001b[0;31m:\u001b[0m invalid syntax\n"
     ]
    }
   ],
   "source": [
    "class phone(Thread):\n",
    "    def __init__(self, number, precision=10, origLat = 45.764, origLong =4.8357, t0=time.time(), delay=10, path=[]):\n",
    "        Thread.__init__(self)\n",
    "        self.number = number\n",
    "        self.precision = precision\n",
    "        self.coordinates = (origLat, origLong)\n",
    "        self.time = t0\n",
    "        self.delay = delay\n",
    "        self.dead = False\n",
    "        self.path= path[:]\n",
    "        self.currentTarget = (self.lat, self.lon)\n",
    "        self.currentSpeed = 0\n",
    "        pass\n",
    "    \n",
    "    def kill(self):\n",
    "        self.dead = True\n",
    "        \n",
    "    def set_delay(self, delay):\n",
    "        self.delay = delay\n",
    "    \n",
    "    def run(self):\n",
    "        while(not self.dead):\n",
    "            if self.currentTarget[0] == self.coordinates[0] and self.currentTarget[1] == self.coordinates[1]:\n",
    "                if len(self.path)>0:\n",
    "                    self.currentTarget = self.path[0][1]\n",
    "                    self.currentSpeed = self.path[0][0]\n",
    "                    self.path = self.path[1:]\n",
    "                    dlat = (self.coordinates[0] - self.currentTarget[0]) * pi / 180\n",
    "                    dlon = (self.coordinates[1] - self.currentTarget[1]) * pi / 180\n",
    "                    a = pow(sin(dlat/2.0), 2) + cos(lat1*d2r) * cos(lat2*d2r) * pow(sin(dlong/2.0), 2)\n",
    "                    c = 2 * atan2(sqrt(a), sqrt(1-a))\n",
    "                    d = 6367 * c\n",
    "                    self.iters = ceil(d/self.currentSpeed/self.delay/60)\n",
    "                    self.iterSize = ((self.coordinates[0] - self.currentTarget[0])/iters, (self.coordinates[1] - self.currentTarget[1])/iters)\n",
    "            pdir = {}\n",
    "            if self.iters >0:\n",
    "                self.iters -= 1\n",
    "                if self.iters == 0:\n",
    "                    self.coordinates = self.currentTarget\n",
    "                else:\n",
    "                    self.coordinates = tuple(map(sum,zip(self.coordinates,self.iterSize))\n",
    "            else:\n",
    "                #todo : add something\n",
    "                pass\n",
    "            pdir['latitude']=self.coordinates[0]\n",
    "            pdir['longitude']=self.coordinates[1]\n",
    "            pdir['radius']=self.precision\n",
    "            pdir['msisdn']=self.number\n",
    "            pdir['timestamp'] = self.time\n",
    "            s = json.dumps(pdir)\n",
    "            print(s)\n",
    "            print(sys.getsizeof(s))\n",
    "            sleep(self.delay)\n",
    "            \n",
    "        print(\"%s killed\"%self.number)\n",
    "    "
   ]
  },
  {
   "cell_type": "code",
   "execution_count": 5,
   "metadata": {
    "collapsed": false
   },
   "outputs": [
    {
     "ename": "AttributeError",
     "evalue": "'phone' object has no attribute 'lat'",
     "output_type": "error",
     "traceback": [
      "\u001b[0;31m---------------------------------------------------------------------------\u001b[0m",
      "\u001b[0;31mAttributeError\u001b[0m                            Traceback (most recent call last)",
      "\u001b[0;32m<ipython-input-5-3c1fc130f70a>\u001b[0m in \u001b[0;36m<module>\u001b[0;34m()\u001b[0m\n\u001b[0;32m----> 1\u001b[0;31m \u001b[0mphone1\u001b[0m \u001b[0;34m=\u001b[0m \u001b[0mphone\u001b[0m\u001b[0;34m(\u001b[0m\u001b[0;36m12345\u001b[0m\u001b[0;34m,\u001b[0m \u001b[0mdelay\u001b[0m\u001b[0;34m=\u001b[0m\u001b[0;36m3\u001b[0m\u001b[0;34m)\u001b[0m\u001b[0;34m\u001b[0m\u001b[0m\n\u001b[0m\u001b[1;32m      2\u001b[0m \u001b[0mphone1\u001b[0m\u001b[0;34m.\u001b[0m\u001b[0mstart\u001b[0m\u001b[0;34m(\u001b[0m\u001b[0;34m)\u001b[0m\u001b[0;34m\u001b[0m\u001b[0m\n",
      "\u001b[0;32m<ipython-input-2-a98540624b68>\u001b[0m in \u001b[0;36m__init__\u001b[0;34m(self, number, precision, origLat, origLong, t0, delay, path)\u001b[0m\n\u001b[1;32m      9\u001b[0m         \u001b[0mself\u001b[0m\u001b[0;34m.\u001b[0m\u001b[0mdead\u001b[0m \u001b[0;34m=\u001b[0m \u001b[0;32mFalse\u001b[0m\u001b[0;34m\u001b[0m\u001b[0m\n\u001b[1;32m     10\u001b[0m         \u001b[0mself\u001b[0m\u001b[0;34m.\u001b[0m\u001b[0mpath\u001b[0m\u001b[0;34m=\u001b[0m \u001b[0mpath\u001b[0m\u001b[0;34m[\u001b[0m\u001b[0;34m:\u001b[0m\u001b[0;34m]\u001b[0m\u001b[0;34m\u001b[0m\u001b[0m\n\u001b[0;32m---> 11\u001b[0;31m         \u001b[0mself\u001b[0m\u001b[0;34m.\u001b[0m\u001b[0mcurrentTarget\u001b[0m \u001b[0;34m=\u001b[0m \u001b[0;34m(\u001b[0m\u001b[0mself\u001b[0m\u001b[0;34m.\u001b[0m\u001b[0mlat\u001b[0m\u001b[0;34m,\u001b[0m \u001b[0mself\u001b[0m\u001b[0;34m.\u001b[0m\u001b[0mlon\u001b[0m\u001b[0;34m)\u001b[0m\u001b[0;34m\u001b[0m\u001b[0m\n\u001b[0m\u001b[1;32m     12\u001b[0m         \u001b[0mself\u001b[0m\u001b[0;34m.\u001b[0m\u001b[0mcurrentSpeed\u001b[0m \u001b[0;34m=\u001b[0m \u001b[0;36m0\u001b[0m\u001b[0;34m\u001b[0m\u001b[0m\n\u001b[1;32m     13\u001b[0m         \u001b[0;32mpass\u001b[0m\u001b[0;34m\u001b[0m\u001b[0m\n",
      "\u001b[0;31mAttributeError\u001b[0m: 'phone' object has no attribute 'lat'"
     ]
    }
   ],
   "source": [
    "phone1 = phone(12345, delay=3)\n",
    "phone1.start()"
   ]
  },
  {
   "cell_type": "code",
   "execution_count": 39,
   "metadata": {
    "collapsed": false
   },
   "outputs": [
    {
     "name": "stdout",
     "output_type": "stream",
     "text": [
      "12345 killed\n"
     ]
    }
   ],
   "source": [
    "phone1.kill()"
   ]
  },
  {
   "cell_type": "code",
   "execution_count": 33,
   "metadata": {
    "collapsed": false
   },
   "outputs": [
    {
     "name": "stdout",
     "output_type": "stream",
     "text": [
      "1481189804.9667938\n"
     ]
    }
   ],
   "source": [
    "print(time.time())"
   ]
  },
  {
   "cell_type": "code",
   "execution_count": null,
   "metadata": {
    "collapsed": true
   },
   "outputs": [],
   "source": []
  }
 ],
 "metadata": {
  "anaconda-cloud": {},
  "kernelspec": {
   "display_name": "Python [default]",
   "language": "python",
   "name": "python3"
  },
  "language_info": {
   "codemirror_mode": {
    "name": "ipython",
    "version": 3
   },
   "file_extension": ".py",
   "mimetype": "text/x-python",
   "name": "python",
   "nbconvert_exporter": "python",
   "pygments_lexer": "ipython3",
   "version": "3.5.2"
  }
 },
 "nbformat": 4,
 "nbformat_minor": 1
}
